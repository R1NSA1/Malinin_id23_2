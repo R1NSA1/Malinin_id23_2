{
 "cells": [
  {
   "cell_type": "code",
   "execution_count": 1,
   "id": "6fbcfd5c-1100-4026-8b34-0dccc9ec3381",
   "metadata": {},
   "outputs": [
    {
     "name": "stdout",
     "output_type": "stream",
     "text": [
      "pygame 2.6.1 (SDL 2.28.4, Python 3.12.3)\n",
      "Hello from the pygame community. https://www.pygame.org/contribute.html\n"
     ]
    }
   ],
   "source": [
    "import pygame\n",
    "import numpy as np\n",
    "import sys"
   ]
  },
  {
   "cell_type": "code",
   "execution_count": 2,
   "id": "c682bccf-2090-4e0d-bd17-5afc9c36eb40",
   "metadata": {},
   "outputs": [
    {
     "name": "stderr",
     "output_type": "stream",
     "text": [
      "2024-12-11 18:43:40.619 Python[6723:422037] +[IMKClient subclass]: chose IMKClient_Modern\n",
      "2024-12-11 18:43:40.619 Python[6723:422037] +[IMKInputSession subclass]: chose IMKInputSession_Modern\n"
     ]
    },
    {
     "ename": "SystemExit",
     "evalue": "",
     "output_type": "error",
     "traceback": [
      "An exception has occurred, use %tb to see the full traceback.\n",
      "\u001b[0;31mSystemExit\u001b[0m\n"
     ]
    },
    {
     "name": "stderr",
     "output_type": "stream",
     "text": [
      "/Library/Frameworks/Python.framework/Versions/3.12/lib/python3.12/site-packages/IPython/core/interactiveshell.py:3585: UserWarning: To exit: use 'exit', 'quit', or Ctrl-D.\n",
      "  warn(\"To exit: use 'exit', 'quit', or Ctrl-D.\", stacklevel=1)\n"
     ]
    }
   ],
   "source": [
    "pygame.init()\n",
    "WIDTH, HEIGHT = 800, 600\n",
    "FPS = 60\n",
    "WHITE = (255, 255, 255)\n",
    "YELLOW = (255, 255, 0)\n",
    "BEIGE = (255, 223, 186)\n",
    "ORANGE = (255, 165, 0)\n",
    "DARK_ORANGE = (255, 140, 0)\n",
    "GRAY = (200, 200, 200)\n",
    "\n",
    "# Параметры свечи\n",
    "h0 = 100\n",
    "v = 1\n",
    "I = 5\n",
    "k = 2\n",
    "m = 1\n",
    "\n",
    "screen = pygame.display.set_mode((WIDTH, HEIGHT))\n",
    "pygame.display.set_caption(\"Симуляция горения свечи\")\n",
    "clock = pygame.time.Clock()\n",
    "\n",
    "def draw_slider(x, y, value, min_value, max_value):\n",
    "    pygame.draw.rect(screen, GRAY, (x, y, 200, 10))\n",
    "    pygame.draw.rect(screen, YELLOW, (x + value * (200 / max_value) - 5, y - 5, 10, 20))\n",
    "\n",
    "def draw_button(x, y, text):\n",
    "    font = pygame.font.Font(None, 36)\n",
    "    text_surface = font.render(text, True, WHITE)\n",
    "    rect = text_surface.get_rect(center=(x + 50, y + 20))\n",
    "    pygame.draw.rect(screen, GRAY, (x, y, 100, 40))\n",
    "    screen.blit(text_surface, rect)\n",
    "\n",
    "def draw_flame(candle_x, candle_y):\n",
    "    \"\"\"Рисует пламя в виде ромбов.\"\"\"\n",
    "    A = I * k\n",
    "    omega = I * m\n",
    "    flame_offset_y = A * np.sin(omega * pygame.time.get_ticks() / 1000)\n",
    "    diamond_points1 = [\n",
    "        (candle_x + 25 + flame_offset_y / 2 , candle_y - 20),\n",
    "        (candle_x + 50 , candle_y),\n",
    "        (candle_x + flame_offset_y / 4 +25 , candle_y - flame_offset_y),\n",
    "        (candle_x , candle_y)\n",
    "    ]\n",
    "    diamond_points2 = [\n",
    "        (candle_x + 25 , candle_y - h0 /10),\n",
    "        (candle_x + 50 , candle_y),\n",
    "        (candle_x + flame_offset_y /4 +30 , candle_y - flame_offset_y),\n",
    "        (candle_x +10 , candle_y)\n",
    "    ]\n",
    "    pygame.draw.polygon(screen ,ORANGE ,diamond_points1)\n",
    "    pygame.draw.polygon(screen ,DARK_ORANGE ,diamond_points2)\n",
    "\n",
    "def draw_candle_and_flame(h):\n",
    "    candle_x = WIDTH - 60\n",
    "    candle_y = HEIGHT - h\n",
    "    pygame.draw.rect(screen, BEIGE, (candle_x, candle_y, 50, h))\n",
    "    if h > 0:\n",
    "        draw_flame(candle_x, candle_y)\n",
    "\n",
    "# Основной цикл\n",
    "running = True\n",
    "current_height = h0\n",
    "time_passed = 0\n",
    "while running:\n",
    "    screen.fill(WHITE)\n",
    "    for event in pygame.event.get():\n",
    "        if event.type == pygame.QUIT:\n",
    "            running = False\n",
    "            \n",
    "    mouse_x, mouse_y = pygame.mouse.get_pos()    \n",
    "    if event.type == pygame.MOUSEBUTTONDOWN and mouse_x in range(10 ,210) and mouse_y in range(50 -5 ,50 +15):\n",
    "        h0 = int((mouse_x -10) * (200 / (210 -10)))\n",
    "        \n",
    "    draw_slider(10 ,50 ,h0 ,10 ,200)\n",
    "    if event.type == pygame.MOUSEBUTTONDOWN and mouse_x in range(10 ,210) and mouse_y in range(100 -5 ,100 +15):\n",
    "        v = int((mouse_x -10) * (9 / (210 -10))) +1\n",
    "        \n",
    "    draw_slider(10 ,100 ,v ,1 ,10)\n",
    "    if event.type == pygame.MOUSEBUTTONDOWN and mouse_x in range(10 ,210) and mouse_y in range(150 -5 ,150 +15):\n",
    "        I = int((mouse_x -10) * (9 / (210 -10))) +1\n",
    "        \n",
    "    draw_slider(10 ,150 ,I ,1 ,10)\n",
    "    draw_button(10 ,200 ,\"Запуск\")\n",
    "    draw_button(10 ,250 ,\"Сброс\")\n",
    "    if current_height > 0:\n",
    "        current_height = max(0,h0 -(v * time_passed / FPS))\n",
    "        time_passed +=1\n",
    "\n",
    "    draw_candle_and_flame(current_height)\n",
    "    pygame.display.flip()\n",
    "    clock.tick(FPS)\n",
    "\n",
    "pygame.quit()\n",
    "sys.exit()\n"
   ]
  }
 ],
 "metadata": {
  "kernelspec": {
   "display_name": "Python 3 (ipykernel)",
   "language": "python",
   "name": "python3"
  },
  "language_info": {
   "codemirror_mode": {
    "name": "ipython",
    "version": 3
   },
   "file_extension": ".py",
   "mimetype": "text/x-python",
   "name": "python",
   "nbconvert_exporter": "python",
   "pygments_lexer": "ipython3",
   "version": "3.12.3"
  }
 },
 "nbformat": 4,
 "nbformat_minor": 5
}
